{
 "cells": [
  {
   "cell_type": "markdown",
   "metadata": {},
   "source": [
    "## Regex cheat sheet  \n",
    "\\w: character, number, under line _\n",
    "\n",
    "\\W: non-(character, number, under line_) \n",
    "\n",
    "\\s: match any white space character including (\\r: carriage return, \\n: new line, \\t: tab, \\f: form feed)  \n",
    "\n",
    "\\S: match any non- white space character  \n",
    "\n",
    "\\d: match any digit  \n",
    "\n",
    "\\D: match any non-digit  \n",
    "\n",
    "^:  match the beginning of string  \n",
    "\n",
    "$:  match the end of string  \n",
    "\n",
    ".:  macth anything except new line(\\n)  \n",
    "\n",
    "*:  match >=0 anything  \n",
    "\n",
    "+:  match >=1 anythin  \n",
    "\n",
    "?:  macth 0 or 1 what ? is following  \n",
    "\n",
    "{n}:macth n numbers of anything which {n} is following"
   ]
  },
  {
   "cell_type": "markdown",
   "metadata": {},
   "source": [
    "## re.match  \n",
    "\n",
    "re.match: match from the beginning of string, if successed, return the result. Otherwise, return None  \n",
    "\n",
    "re.match(pattern, string, flags=0)"
   ]
  },
  {
   "cell_type": "code",
   "execution_count": null,
   "metadata": {},
   "outputs": [],
   "source": [
    "# The easiest example, remember in this example, given a string, we match from the begining.\n",
    "import re\n",
    "\n",
    "content = 'Hello 112 35813 Uwaterloo_mathgenius'\n",
    "result = re.match('^Hello\\s\\d{3}\\s\\d{5}\\s\\w{10}.*$',content)\n",
    "print(result)\n",
    "print(result.group())\n",
    "print(result.span())"
   ]
  },
  {
   "cell_type": "markdown",
   "metadata": {},
   "source": [
    "If you run correctly, you will get result. For result, span means the length of match result, match is the result what you match  \n",
    "\n",
    "### Generic Matching"
   ]
  },
  {
   "cell_type": "code",
   "execution_count": null,
   "metadata": {},
   "outputs": [],
   "source": [
    "import re\n",
    "\n",
    "content = 'Hello 112 35813 Uwaterloo_mathgenius'\n",
    "result = re.match('^Hello.*genius$',content)\n",
    "print(result.group())"
   ]
  },
  {
   "cell_type": "markdown",
   "metadata": {},
   "source": [
    "### Target Matching"
   ]
  },
  {
   "cell_type": "code",
   "execution_count": null,
   "metadata": {},
   "outputs": [],
   "source": [
    "import re\n",
    "\n",
    "content = 'Hello 11235813 Uwaterloo_mathgenius'\n",
    "result = re.match('^Hello\\s(\\d+)\\sUwaterloo.*$',content)\n",
    "print(result.group(1))\n",
    "# since you want to figure out what is in the first ()"
   ]
  },
  {
   "cell_type": "markdown",
   "metadata": {},
   "source": [
    "###  Greedy Matching"
   ]
  },
  {
   "cell_type": "code",
   "execution_count": null,
   "metadata": {},
   "outputs": [],
   "source": [
    "import re\n",
    "\n",
    "content = 'Hello 11235813 Uwaterloo_mathgenius'\n",
    "result = re.match('^He.*(\\d+).*ius$',content)\n",
    "print(result)\n",
    "print(result.group(1))"
   ]
  },
  {
   "cell_type": "markdown",
   "metadata": {},
   "source": [
    "The result you get should be 3 since the begining of numbers are covered by .*  \n",
    "\n",
    "### Non-Greedy Matching"
   ]
  },
  {
   "cell_type": "code",
   "execution_count": null,
   "metadata": {},
   "outputs": [],
   "source": [
    "import re\n",
    "\n",
    "content = 'Hello 11235813 Uwaterloo_mathgenius'\n",
    "result = re.match('^He.*?(\\d+).*ius$',content)\n",
    "print(result)\n",
    "print(result.group(1))"
   ]
  },
  {
   "cell_type": "markdown",
   "metadata": {},
   "source": [
    "? change the matching to non-greedy matching, which makes .* match as few as possible aka makes .* non-greedy  \n",
    "\n",
    "### Matching Pattern"
   ]
  },
  {
   "cell_type": "code",
   "execution_count": null,
   "metadata": {},
   "outputs": [],
   "source": [
    "import re\n",
    "\n",
    "content = '''Hello 1234567 World_This\n",
    "is Uwaterloo_mathgenius\n",
    "'''\n",
    "result = re.match('^Hello.*?(\\d+).*s$',content)\n",
    "print(result)"
   ]
  },
  {
   "cell_type": "markdown",
   "metadata": {},
   "source": [
    "The type of result is None! Why? It is because . can not match \\n after 'This'"
   ]
  },
  {
   "cell_type": "code",
   "execution_count": null,
   "metadata": {},
   "outputs": [],
   "source": [
    "import re\n",
    "\n",
    "content = '''Hello 1234567 World_This\n",
    "is Uwaterloo_mathgenius\n",
    "'''\n",
    "result = re.match('^Hello.*?(\\d+).*s$',content, re.S)\n",
    "print(result)\n",
    "print(result.group(1))"
   ]
  },
  {
   "cell_type": "markdown",
   "metadata": {},
   "source": [
    "When we add re.S as another param, . can cover \\n\n",
    "\n",
    "### Escaping"
   ]
  },
  {
   "cell_type": "code",
   "execution_count": null,
   "metadata": {},
   "outputs": [],
   "source": [
    "import re\n",
    "\n",
    "content = 'price is $5.00'\n",
    "result = re.match('price is $5.00',content)\n",
    "print(result)"
   ]
  },
  {
   "cell_type": "markdown",
   "metadata": {},
   "source": [
    "Display None since $ and . is regular expression. You make it confusing."
   ]
  },
  {
   "cell_type": "code",
   "execution_count": null,
   "metadata": {},
   "outputs": [],
   "source": [
    "import re\n",
    "\n",
    "content = 'price is $5.00'\n",
    "result = re.match('price is \\$5\\.00',content)\n",
    "print(result)"
   ]
  },
  {
   "cell_type": "markdown",
   "metadata": {},
   "source": [
    "Then you get a right result.  \n",
    "\n",
    "Also, I recommend you use generic, non-greedy matching. When you deal with \\n, just use re.S  \n",
    "\n",
    "## re.search  \n",
    "\n",
    "re.search scan the whole string and return the first matching result."
   ]
  },
  {
   "cell_type": "code",
   "execution_count": null,
   "metadata": {},
   "outputs": [],
   "source": [
    "import re\n",
    "\n",
    "content = 'Extra string hello 11235813 I am math genius'\n",
    "result = re.search('\\d{3}', content)\n",
    "print(result)\n",
    "# return match = 112"
   ]
  },
  {
   "cell_type": "markdown",
   "metadata": {},
   "source": [
    "Now you have already known how to use re.search, why not use re.match?  \n",
    "\n",
    "## re.findall  \n",
    "\n",
    "find all matching target, return a list  \n",
    "\n",
    "## re.sub  \n",
    "\n",
    "replace every matching target by other string"
   ]
  },
  {
   "cell_type": "code",
   "execution_count": null,
   "metadata": {},
   "outputs": [],
   "source": [
    "import re\n",
    "\n",
    "content = 'Extra strings Hello 123456 Test_mathgenius'\n",
    "content = re.sub('\\d','',content)\n",
    "print(content)"
   ]
  },
  {
   "cell_type": "markdown",
   "metadata": {},
   "source": [
    "re.sub(para1, para2, para3)  \n",
    "\n",
    "para1 is a regular expression representing the text you want to replace  \n",
    "\n",
    "para1 will be replaced by para2\n",
    "\n",
    "para3 is the orginial content  \n",
    "\n",
    "For this example, the digits are replaced by null  \n",
    "\n",
    "Using result.strip() we can remove '\\n'  \n",
    "\n",
    "## re.comple  \n",
    "\n",
    "I dont get this very well"
   ]
  },
  {
   "cell_type": "code",
   "execution_count": 11,
   "metadata": {},
   "outputs": [
    {
     "name": "stdout",
     "output_type": "stream",
     "text": [
      "<re.Match object; span=(0, 37), match='Hello 12345678 World_ \\nis math_genius'>\n"
     ]
    }
   ],
   "source": [
    "import re\n",
    "\n",
    "content = '''Hello 12345678 World_ \n",
    "is math_genius'''\n",
    "pattern = re.compile('Hello.*ius', re.S)\n",
    "result = re.match(pattern, content)\n",
    "print(result)"
   ]
  },
  {
   "cell_type": "code",
   "execution_count": 2,
   "metadata": {},
   "outputs": [],
   "source": [
    "import requests\n",
    "import re\n",
    "content = requests.get('https://book.douban.com/').text"
   ]
  }
 ],
 "metadata": {
  "kernelspec": {
   "display_name": "Python 3",
   "language": "python",
   "name": "python3"
  },
  "language_info": {
   "codemirror_mode": {
    "name": "ipython",
    "version": 3
   },
   "file_extension": ".py",
   "mimetype": "text/x-python",
   "name": "python",
   "nbconvert_exporter": "python",
   "pygments_lexer": "ipython3",
   "version": "3.7.4"
  }
 },
 "nbformat": 4,
 "nbformat_minor": 2
}
